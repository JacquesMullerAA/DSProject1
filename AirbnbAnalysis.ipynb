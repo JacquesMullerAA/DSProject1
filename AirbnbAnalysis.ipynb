{
 "metadata": {
  "language_info": {
   "codemirror_mode": {
    "name": "ipython",
    "version": 3
   },
   "file_extension": ".py",
   "mimetype": "text/x-python",
   "name": "python",
   "nbconvert_exporter": "python",
   "pygments_lexer": "ipython3",
   "version": "3.9.0"
  },
  "orig_nbformat": 2,
  "kernelspec": {
   "name": "python390jvsc74a57bd0aee8b7b246df8f9039afb4144a1f6fd8d2ca17a180786b69acc140d282b71a49",
   "display_name": "Python 3.9.0 64-bit"
  }
 },
 "nbformat": 4,
 "nbformat_minor": 2,
 "cells": [
  {
   "cell_type": "code",
   "execution_count": null,
   "metadata": {},
   "outputs": [],
   "source": [
    "# Understanding the business - This as the name suggests, in-depth analysis of the business objectives and needs has to be done. Current situation must be accessed and from these insights, the goals of carrying out the processes must be defined.\n",
    "\n",
    "#Understanding the data - A thorough understanding regarding the data should be established. Different attributes of data are examined and facts should be derived from them. At each stage of examining the data completeness and consistency should be verified.\n",
    "\n",
    "#Preparation of data - This process involves setting up the data in a way such that all the business questions posed can be answered. Exploration of information may be executed for noticing the patterns in light of business understandings.\n",
    "\n",
    "#Modelling - Selection of modelling technique is the very first step to take followed by the generation of test scenario for validating the model’s quality. After that few more models are generated. All the models are then assessed to make sure that they fall in line with the business initiatives.\n",
    "\n",
    "#Evaluation - Here the results of models are evaluated in the backdrop of business intentions. Then new objectives may sprout up owing to the new patterns discovered. This is, in fact, an iterative process and the decision whether to consider them or not has to be made in this step before moving further.\n",
    "\n",
    "\n",
    "## Setup notebook\n",
    "\n",
    "### Import libraries\n",
    "import numpy as np\n",
    "import pandas as pd\n",
    "import matplotlib.pyplot as plt\n",
    "from sklearn.linear_model import LinearRegression\n",
    "from sklearn.model_selection import train_test_split\n",
    "from sklearn.metrics import r2_score, mean_squared_error\n",
    "from sklearn.model_selection import cross_val_predict\n",
    "import plotly.express as px\n",
    "import seaborn as sns\n",
    "%matplotlib inline\n",
    "\n",
    "## Read Boston Airbnb data\n",
    "df = pd.read_csv('./data/boston_airbnb/listings.csv')\n",
    "df.head()"
   ]
  },
  {
   "cell_type": "code",
   "execution_count": null,
   "metadata": {},
   "outputs": [],
   "source": [
    "#Display the number of rows and columns in the data read, and show the names of all the data columns\n",
    "print(df.shape)\n",
    "print(df.columns)"
   ]
  },
  {
   "cell_type": "code",
   "execution_count": null,
   "metadata": {},
   "outputs": [],
   "source": [
    "#Plot the fraction of null values for each data column to determine cut off point for columns to drop from the data\n",
    "vals = df.isnull().mean().sort_values(ascending=False)\n",
    "(vals[:30]).plot(kind=\"bar\", title=\"Fraction null values per column\", xlabel=\"Data Column\", ylabel=\"Fraction null values\");"
   ]
  },
  {
   "cell_type": "code",
   "execution_count": null,
   "metadata": {},
   "outputs": [],
   "source": [
    "#Display the columns with more than 50% missing values\n",
    "missing_cols = set(df.columns[df.isnull().mean()>0.5])\n",
    "print(missing_cols)"
   ]
  },
  {
   "cell_type": "code",
   "execution_count": null,
   "metadata": {},
   "outputs": [],
   "source": [
    "#Remove the columns with more than 50% missing values, and display the number of rows and columns remaining in the data\n",
    "df1 = df.drop(missing_cols, axis=1, inplace=False)\n",
    "print(df1.shape)"
   ]
  },
  {
   "cell_type": "code",
   "execution_count": null,
   "metadata": {},
   "outputs": [],
   "source": [
    "#Replace the \"$\"-sign in price column, and convert the column to numeric type\n",
    "df2 = df1.copy()\n",
    "\n",
    "print(df2['price'].head())\n",
    "\n",
    "df2['price'] =  df2['price'].replace({'\\$':''}, regex = True)\n",
    "df2['price'] =  pd.to_numeric(df2['price'] ,errors='coerce')\n",
    "\n",
    "print(df2['price'].head())"
   ]
  },
  {
   "cell_type": "code",
   "execution_count": null,
   "metadata": {},
   "outputs": [],
   "source": [
    "#Determine the fraction of values in the prices column this are null\n",
    "print(df2.shape)\n",
    "print(df2['price'].isnull().mean())"
   ]
  },
  {
   "cell_type": "code",
   "execution_count": null,
   "metadata": {},
   "outputs": [],
   "source": [
    "#Drop the rows from the data with null values for price, and display the number of rows and columns remaining\n",
    "df3 = df2.dropna(subset=['price'], axis=0)\n",
    "print(df3.shape)\n",
    "print(df3['price'].isnull().mean())"
   ]
  },
  {
   "cell_type": "code",
   "execution_count": null,
   "metadata": {},
   "outputs": [],
   "source": [
    "#Display descriptive statistics of price\n",
    "df3['price'].describe()"
   ]
  },
  {
   "cell_type": "code",
   "execution_count": null,
   "metadata": {},
   "outputs": [],
   "source": [
    "#Display a histogram of prices per listing\n",
    "df3['price'].hist();"
   ]
  },
  {
   "cell_type": "code",
   "execution_count": null,
   "metadata": {},
   "outputs": [],
   "source": [
    "#Drop the rows with prices higher than $400, and display the number of rows and columns remaining\n",
    "df4 = df3[df3['price']<=400]\n",
    "print(df4.shape)"
   ]
  },
  {
   "cell_type": "code",
   "execution_count": null,
   "metadata": {},
   "outputs": [],
   "source": [
    "#Display a histogram of prices per listing of the data after removing listings with prices more than $400\n",
    "df4['price'].hist();"
   ]
  },
  {
   "cell_type": "code",
   "execution_count": null,
   "metadata": {},
   "outputs": [],
   "source": []
  },
  {
   "cell_type": "code",
   "execution_count": null,
   "metadata": {},
   "outputs": [],
   "source": [
    "# Question 1: ?\n",
    "\n",
    "## Reset the data frame by reading and cleaning the data\n",
    "\n",
    "df = pd.read_csv('./data/boston_airbnb/listings.csv')\n",
    "\n",
    "#Remove columns with more than 50% missing values\n",
    "missing_cols = set(df.columns[df.isnull().mean()>0.5])\n",
    "df = df.drop(missing_cols, axis=1, inplace=False)\n",
    "\n",
    "#Replace \"$\" sign in price column, convert to numeric\n",
    "df['price'] = df['price'].replace({'\\$':''}, regex = True)\n",
    "df['price'] = pd.to_numeric(df['price'] ,errors='coerce')\n",
    "\n",
    "#Drop rows with null prices\n",
    "df.dropna(subset=['price'], axis=0)\n",
    "\n",
    "#Drop rows with prices more than $400\n",
    "df = df[df['price']<=400]\n",
    "\n",
    "#Display number of rows and columns, and the column names of the remaining data\n",
    "print(df.shape)\n",
    "print(df.columns)"
   ]
  },
  {
   "cell_type": "code",
   "execution_count": null,
   "metadata": {},
   "outputs": [],
   "source": [
    "#Get the total number of listings per host and plot on a bar chart for the top 20 hosts\n",
    "vals = df['host_name'].value_counts()\n",
    "((vals[:20])).plot(kind=\"bar\", title=\"Number of listings per host\", xlabel=\"Host name\", ylabel=\"Number of listings\");"
   ]
  },
  {
   "cell_type": "code",
   "execution_count": null,
   "metadata": {},
   "outputs": [],
   "source": [
    "#Display the total number of listings per host\n",
    "print(vals)"
   ]
  },
  {
   "cell_type": "code",
   "execution_count": null,
   "metadata": {},
   "outputs": [],
   "source": [
    "#Display a histogram of the total number of listings per host, setting the bins from 1 to 10 in steps of 1\n",
    "vals.hist(bins=[1,2,3,4,5,6,7,8,9,10]);"
   ]
  },
  {
   "cell_type": "code",
   "execution_count": null,
   "metadata": {},
   "outputs": [],
   "source": [
    "#Filter the data to in include hosts with more than one listing only\n",
    "df_1 = df.groupby('host_name').filter(lambda x: len(x) > 1) \n",
    "\n",
    "#Get the number of listings, mean listing price, and mean review score per host\n",
    "df_1 = df_1.groupby(['host_name']).agg({'id':\"count\", 'price':\"mean\", 'review_scores_rating':\"mean\"})\n",
    "\n",
    "#Rename the id column to count that contains the number of listings per host\n",
    "df_1 = df_1.rename(columns={'id': 'count'},inplace=False)\n",
    "\n",
    "#Sort the data in descending order by the number of listings per host\n",
    "df_1 = df_1.sort_values(\"count\", ascending=False)\n",
    "\n",
    "#Display the data\n",
    "print(df_1)"
   ]
  },
  {
   "cell_type": "code",
   "execution_count": null,
   "metadata": {},
   "outputs": [],
   "source": [
    "#Display a histogram of mean review score per host\n",
    "df_1['review_scores_rating'].hist();"
   ]
  },
  {
   "cell_type": "code",
   "execution_count": null,
   "metadata": {},
   "outputs": [],
   "source": [
    "#Plot the mean review score per host in ascending order for the 20 hosts with the lowest scores\n",
    "df_1 = df_1.sort_values(\"review_scores_rating\", ascending=True)\n",
    "((df_1['review_scores_rating'][:20])).plot(kind=\"bar\", title=\"Mean review score of listings per host\", xlabel=\"Host name\", ylabel=\"Review score\");"
   ]
  },
  {
   "cell_type": "code",
   "execution_count": null,
   "metadata": {},
   "outputs": [],
   "source": [
    "#Display the data sorted by review scores in ascending order\n",
    "print(df_1.head(10))"
   ]
  },
  {
   "cell_type": "code",
   "execution_count": null,
   "metadata": {},
   "outputs": [],
   "source": [
    "#Display a histogram of mean price per host\n",
    "df_1['price'].hist();"
   ]
  },
  {
   "cell_type": "code",
   "execution_count": null,
   "metadata": {},
   "outputs": [],
   "source": [
    "#Plot the mean price per host in descending order of the 20 hosts with the highest mean prices\n",
    "df_1 = df_1.sort_values(\"price\", ascending=False)\n",
    "((df_1['price'][:20])).plot(kind=\"bar\", title=\"Mean price of listings per host\", xlabel=\"Host name\", ylabel=\"Price\");"
   ]
  },
  {
   "cell_type": "code",
   "execution_count": null,
   "metadata": {},
   "outputs": [],
   "source": [
    "#Sort and displaythe data mean price per host in descending order\n",
    "df_1 = df_1.sort_values(\"price\", ascending=False)\n",
    "print(df_1.head(20))"
   ]
  },
  {
   "cell_type": "code",
   "execution_count": null,
   "metadata": {},
   "outputs": [],
   "source": [
    "#Plot the mean price and review scores per host against each other\n",
    "sns.set_theme(style=\"ticks\")\n",
    "sns.pairplot(df_1[['price','review_scores_rating']]);\n"
   ]
  },
  {
   "cell_type": "code",
   "execution_count": null,
   "metadata": {},
   "outputs": [],
   "source": [
    "#Display the descriptive statistics of the number of listings, mean price and mean review score per host\n",
    "df_1.describe()"
   ]
  },
  {
   "cell_type": "code",
   "execution_count": null,
   "metadata": {},
   "outputs": [],
   "source": [
    "# Question 2: ?\n",
    "\n",
    "## Reset the data frame by reading and cleaning the data\n",
    "df = pd.read_csv('./data/boston_airbnb/listings.csv')\n",
    "\n",
    "#Remove columns with more than 50% missing values\n",
    "missing_cols = set(df.columns[df.isnull().mean()>0.5])\n",
    "df = df.drop(missing_cols, axis=1, inplace=False)\n",
    "\n",
    "#Replace \"$\" sign in price column, convert to numeric\n",
    "df['price'] = df['price'].replace({'\\$':''}, regex = True)\n",
    "df['price'] = pd.to_numeric(df['price'] ,errors='coerce')\n",
    "\n",
    "#Drop rows with null prices\n",
    "df.dropna(subset=['price'], axis=0)\n",
    "\n",
    "#Drop rows with prices more than $400\n",
    "df = df[df['price']<=400]\n",
    "\n",
    "#Display number of rows and columns, and the column names of the remaining data\n",
    "print(df.shape)\n",
    "print(df.columns)"
   ]
  },
  {
   "cell_type": "code",
   "execution_count": null,
   "metadata": {},
   "outputs": [],
   "source": [
    "#Get the number of listings, mean listing price, and mean review score per neighbourhood\n",
    "df_1 = df.groupby(['neighbourhood']).agg({'id':\"count\", 'price':\"mean\", 'review_scores_rating':\"mean\", 'number_of_reviews':\"mean\", 'latitude':\"mean\",'longitude':\"mean\"})\n",
    "\n",
    "#rename the id column to count that contains the number of listings per neighbourhood\n",
    "df_1 = df_1.rename(columns={'id': 'count'},inplace=False)\n",
    "\n",
    "#sort the data in descending order by the number of listings per neighbourhood\n",
    "df_1 = df_1.sort_values('count', ascending=False)\n",
    "\n",
    "#Display the data, and the number of rows and columns of the data\n",
    "print(df_1)\n",
    "print(df_1.shape)"
   ]
  },
  {
   "cell_type": "code",
   "execution_count": null,
   "metadata": {},
   "outputs": [],
   "source": [
    "#Get the total number of listings per neighbourhood and plot on a bar chart for the top 20 neighbourhoods\n",
    "df_1 = df_1.sort_values('count', ascending=False)\n",
    "((df_1['count'])).plot(kind=\"bar\", title=\"Number of listings per neighbourhood\", xlabel=\"Neighbourhood\", ylabel=\"Number of listings\");"
   ]
  },
  {
   "cell_type": "code",
   "execution_count": null,
   "metadata": {},
   "outputs": [],
   "source": [
    "#Display a histogram of number of listing per neighbourhood\n",
    "df_1['count'].hist();"
   ]
  },
  {
   "cell_type": "code",
   "execution_count": null,
   "metadata": {},
   "outputs": [],
   "source": [
    "#Plot the mean listing price  per neighbourhood in descending order\n",
    "df_1 = df_1.sort_values(\"price\", ascending=False)\n",
    "((df_1['price'])).plot(kind=\"bar\", title=\"Mean price of listings per neighbourhood\", xlabel=\"Neighbourhood\", ylabel=\"Price\");"
   ]
  },
  {
   "cell_type": "code",
   "execution_count": null,
   "metadata": {},
   "outputs": [],
   "source": [
    "#Display the data sorted by the mean listing price per neighbourhood in descending order\n",
    "print(df_1)"
   ]
  },
  {
   "cell_type": "code",
   "execution_count": null,
   "metadata": {},
   "outputs": [],
   "source": [
    "#Display a histogram of the mean listing price per neighbourhood\n",
    "df_1['price'].hist();"
   ]
  },
  {
   "cell_type": "code",
   "execution_count": null,
   "metadata": {},
   "outputs": [],
   "source": [
    "#Plot the mean review score per neighbourhood in descending order\n",
    "df_1 = df_1.sort_values(\"review_scores_rating\", ascending=False)\n",
    "((df_1['review_scores_rating'])).plot(kind=\"bar\", title=\"Mean review score of listings per neighbourhood\", xlabel=\"Neighbourhood\", ylabel=\"Review score\");"
   ]
  },
  {
   "cell_type": "code",
   "execution_count": null,
   "metadata": {},
   "outputs": [],
   "source": [
    "#Display the data sorted by the mean review score per neighbourhood in descending order\n",
    "print(df_1)"
   ]
  },
  {
   "cell_type": "code",
   "execution_count": null,
   "metadata": {},
   "outputs": [],
   "source": [
    "#Display a histogram of the mean review score per neighbourhood\n",
    "df_1['review_scores_rating'].hist();"
   ]
  },
  {
   "cell_type": "code",
   "execution_count": null,
   "metadata": {},
   "outputs": [],
   "source": [
    "#Plot the total number of listings, mean price, and mean review score for listings per neighbourhood against each other\n",
    "sns.set_theme(style=\"ticks\")\n",
    "sns.pairplot(df_1[['count','price','review_scores_rating']]);"
   ]
  },
  {
   "cell_type": "code",
   "execution_count": null,
   "metadata": {},
   "outputs": [],
   "source": [
    "#Visualize the data by location by plotting the neighbourhood data using the mean latitude and longitude of the listings in each neighbourhood.\n",
    "#Colour scale indicates the mean price, and the size indicates the mean review score of listings per neighbourhood.\n",
    "\n",
    "df_1 = df_1.sort_values(\"review_scores_rating\", ascending=False)\n",
    "sns.scatterplot(data=df_1, y=\"latitude\", x=\"longitude\", hue=\"review_scores_rating\",size=\"count\", sizes=(50, 500), palette=\"deep\", legend=False);"
   ]
  },
  {
   "cell_type": "code",
   "execution_count": null,
   "metadata": {},
   "outputs": [],
   "source": [
    "#Visualize the data by location by plotting the neighbourhood data using the mean latitude and longitude of the listings in each neighbourhood.\n",
    "#Colour scale indicates the mean price, and the size indicates the total number of listings per neighbourhood.\n",
    "\n",
    "# Reset dataframe index to the neighbourhood index column to a data column\n",
    "df_2 = df_1.reset_index()\n",
    "\n",
    "#Key for the map\n",
    "mapbox_key = 'pk.eyJ1IjoiamFjcXVlc211bGxlciIsImEiOiJja25wczZrMGswY2hkMnFuenIxdWtoNXRtIn0.yV19gFMMxl4AJSVsk7My5Q'\n",
    "\n",
    "#Plot on a Plotly Express plot with mapbox basemap\n",
    "fig = px.scatter_mapbox(data_frame=df_2, lat=\"latitude\", lon=\"longitude\", color=\"price\", size=\"count\", hover_name='neighbourhood', zoom=10, size_max=30)\n",
    "\n",
    "#Style the plot\n",
    "fig.update_layout(mapbox_style=\"light\", mapbox_accesstoken=mapbox_key);\n",
    "\n",
    "fig.show();"
   ]
  },
  {
   "cell_type": "code",
   "execution_count": null,
   "metadata": {},
   "outputs": [],
   "source": [
    "df_1.describe()"
   ]
  },
  {
   "cell_type": "code",
   "execution_count": null,
   "metadata": {},
   "outputs": [],
   "source": [
    "# Question 3: \n",
    "\n",
    "## Reset the data frame by reading and cleaning the data\n",
    "df = pd.read_csv('./data/boston_airbnb/listings.csv')\n",
    "\n",
    "#Remove columns with more than 50% missing values\n",
    "missing_cols = set(df.columns[df.isnull().mean()>0.5])\n",
    "df = df.drop(missing_cols, axis=1, inplace=False)\n",
    "\n",
    "#Replace \"$\" sign in price column, convert to numeric\n",
    "df['price'] = df['price'].replace({'\\$':''}, regex = True)\n",
    "df['price'] = pd.to_numeric(df['price'] ,errors='coerce')\n",
    "\n",
    "#Drop rows with null prices\n",
    "df.dropna(subset=['price'], axis=0)\n",
    "\n",
    "#Drop rows with prices more than $400\n",
    "df = df[df['price']<=400]\n",
    "\n",
    "#Display number of rows and columns, and the column names of the remaining data\n",
    "print(df.shape)\n",
    "print(df.columns)"
   ]
  },
  {
   "cell_type": "code",
   "execution_count": null,
   "metadata": {},
   "outputs": [],
   "source": [
    "#Select only specific data columns for which the regression will be performed (numeric and categorical columns)\n",
    "df_1 = df[['accommodates', 'bathrooms', 'bedrooms', 'beds', 'price', 'guests_included', 'number_of_reviews', 'bed_type' ]]\n",
    "\n",
    "#Display the selected data, and its number of rows and columns\n",
    "print(df_1.head())\n",
    "print(df_1.shape)"
   ]
  },
  {
   "cell_type": "code",
   "execution_count": null,
   "metadata": {},
   "outputs": [],
   "source": [
    "#Get and display a list of the categorical data columns - only bed_type\n",
    "cat_df = df_1.select_dtypes(include=['object'])\n",
    "cat_cols_lst = cat_df.columns\n",
    "print(cat_cols_lst)"
   ]
  },
  {
   "cell_type": "code",
   "execution_count": null,
   "metadata": {},
   "outputs": [],
   "source": [
    "#Count and display the number of listings for each bed_type category value\n",
    "vals = df_1['bed_type'].value_counts()\n",
    "print(vals)"
   ]
  },
  {
   "cell_type": "code",
   "execution_count": null,
   "metadata": {},
   "outputs": [],
   "source": [
    "#Function to remove the category columns, and create a column for each category with a numerical value to indicate the category\n",
    "def create_dummy_df(df, cat_cols, dummy_na):\n",
    "    '''\n",
    "    INPUT:\n",
    "    df - the pandas dataframe in which the category columns should be added\n",
    "    cat_cols - list of the names of the category columns in df\n",
    "    dummy_na - boolean to indicate if the rows with null values should be removed\n",
    "    \n",
    "    OUTPUT:\n",
    "    df - a dataframe of with the specified category columns removed, and a column created for each category with a numerical value to indicate the category\n",
    "    '''\n",
    "    for col in  cat_cols:\n",
    "        try:\n",
    "            df = pd.concat([df.drop(col, axis=1), pd.get_dummies(df[col], prefix=col, prefix_sep='_', drop_first=True, dummy_na=dummy_na)], axis=1)\n",
    "        except:\n",
    "            continue\n",
    "    return df"
   ]
  },
  {
   "cell_type": "code",
   "execution_count": null,
   "metadata": {},
   "outputs": [],
   "source": [
    "#Change the bed_type categorical column into a numerical column with a 0 or 1 to indicate the bed type per listing\n",
    "df_2 = create_dummy_df(df_1, cat_cols_lst, False)\n",
    "print(df_2)"
   ]
  },
  {
   "cell_type": "code",
   "execution_count": null,
   "metadata": {},
   "outputs": [],
   "source": [
    "#Determine and plot the fraction of null values for each column in the data\n",
    "vals = df_2.isnull().mean().sort_values(ascending=False)\n",
    "(vals).plot(kind=\"bar\");"
   ]
  },
  {
   "cell_type": "code",
   "execution_count": null,
   "metadata": {},
   "outputs": [],
   "source": [
    "#Remove the rows with a null value in any of the columns, and display the number of rows and columns of the data now\n",
    "df_3 = df_2.dropna()\n",
    "df_3.shape\n"
   ]
  },
  {
   "cell_type": "code",
   "execution_count": null,
   "metadata": {},
   "outputs": [],
   "source": [
    "#Display the correlation coefficients between the variables in the data on a heat map\n",
    "sns.heatmap(df_3.corr(), annot=True, fmt=\".2f\");"
   ]
  },
  {
   "cell_type": "code",
   "execution_count": null,
   "metadata": {},
   "outputs": [],
   "source": [
    "#Display histograms of all the variables in the data\n",
    "df_3.hist();\n"
   ]
  },
  {
   "cell_type": "code",
   "execution_count": null,
   "metadata": {},
   "outputs": [],
   "source": [
    "#Display correlation plots of price between all the other variables (columns)\n",
    "sns.set_theme(style=\"ticks\")\n",
    "sns.pairplot(data=df_3, y_vars='price', x_vars=['accommodates', 'bathrooms', 'bedrooms', 'beds',\n",
    "       'guests_included', 'number_of_reviews', 'bed_type_Couch',\n",
    "       'bed_type_Futon', 'bed_type_Pull-out Sofa', 'bed_type_Real Bed'] )"
   ]
  },
  {
   "cell_type": "code",
   "execution_count": null,
   "metadata": {},
   "outputs": [],
   "source": [
    "#Function to perform linear regression between response variable and a list of explanatory variables\n",
    "def fit_linear_mod(df, response_col, explanatory_cols, test_size=.3, rand_state=42):\n",
    "        \n",
    "    '''\n",
    "    INPUT:\n",
    "    df - the pandas dataframe that contains all the data\n",
    "    response_col - the column name of the response variable in df\n",
    "    explanatory_cols - list of the column names of the explanatory variables in df\n",
    "    \n",
    "    OUTPUT:\n",
    "    test_score - regression coefficient obtained for the test data\n",
    "    train_score - regression coefficient obtained for the training data\n",
    "    lm_model - linear regression model instance\n",
    "    X_train - explanatory data values for training\n",
    "    X_test - explanatory data values for testing\n",
    "    y_train - response data values for training\n",
    "    y_test - response data values for testing\n",
    "    '''\n",
    "\n",
    "    y = df[response_col]\n",
    "    X = df[explanatory_cols]\n",
    "\n",
    "    X_train, X_test, y_train, y_test = train_test_split(X, y, test_size=.3, random_state=42)\n",
    "   \n",
    "    lm_model = LinearRegression(normalize=True) \n",
    "    lm_model.fit(X_train, y_train)\n",
    "\n",
    "    y_test_preds = lm_model.predict(X_test)\n",
    "    y_train_preds = lm_model.predict(X_train)\n",
    "\n",
    "    test_score = r2_score(y_test, y_test_preds)\n",
    "    train_score = r2_score(y_train, y_train_preds)\n",
    "\n",
    "    return test_score, train_score, lm_model, X_train, X_test, y_train, y_test"
   ]
  },
  {
   "cell_type": "code",
   "execution_count": null,
   "metadata": {},
   "outputs": [],
   "source": [
    "#Perform regression between price and all the other explanatory variables in the data, and display the regression coefficients for the traiing and test data\n",
    "response_col = 'price'\n",
    "explanatory_cols = ['accommodates', 'bathrooms', 'bedrooms', 'beds', 'guests_included', 'number_of_reviews',\n",
    "                    'bed_type_Couch', 'bed_type_Futon', 'bed_type_Pull-out Sofa', 'bed_type_Real Bed']\n",
    "\n",
    "test_score, train_score, lm_model, X_train, X_test, y_train, y_test = fit_linear_mod(df_3, response_col, explanatory_cols)\n",
    "\n",
    "print(train_score)\n",
    "print(test_score)"
   ]
  },
  {
   "source": [
    "#Perform regression between price and only the  explanatory variables with high correlation coefficients with price, and display the regression coefficients for the traiing and test data\n",
    "response_col = 'price'\n",
    "explanatory_cols = ['accommodates', 'bedrooms', 'beds' ]\n",
    "\n",
    "test_score, train_score, lm_model, X_train, X_test, y_train, y_test = fit_linear_mod(df_3, response_col, explanatory_cols)\n",
    "\n",
    "print(train_score)\n",
    "print(test_score)"
   ],
   "cell_type": "code",
   "metadata": {},
   "execution_count": null,
   "outputs": []
  },
  {
   "cell_type": "code",
   "execution_count": null,
   "metadata": {},
   "outputs": [],
   "source": [
    "#Function to put the linear regression equation's coefficients into a data frame\n",
    "def coef_weights(coefficients, X_train):\n",
    "    '''\n",
    "    INPUT:\n",
    "    coefficients - linear model coefficients\n",
    "    X_train - exlanatory data for training\n",
    "    \n",
    "    \n",
    "    OUTPUT:\n",
    "    coefs_df - a dataframe with the explanatory variable names, coefficients, and absolute values of the coefficients (for sorting)\n",
    "    '''\n",
    "\n",
    "    coefs_df = pd.DataFrame()\n",
    "    coefs_df['est_int'] = X_train.columns\n",
    "    coefs_df['coefs'] = lm_model.coef_\n",
    "    coefs_df['abs_coefs'] = np.abs(lm_model.coef_)\n",
    "    coefs_df = coefs_df.sort_values('abs_coefs', ascending=False)\n",
    "    return coefs_df"
   ]
  },
  {
   "cell_type": "code",
   "execution_count": null,
   "metadata": {},
   "outputs": [],
   "source": [
    "#Determine and display the coefficients of the linear equation\n",
    "coef_df = coef_weights(lm_model.coef_, X_train)\n",
    "print(coef_df)"
   ]
  },
  {
   "cell_type": "code",
   "execution_count": null,
   "metadata": {},
   "outputs": [],
   "source": [
    "#Create and display the predicted prices, the actual prices, and the differences for the training and test data\n",
    "\n",
    "y_test_preds = lm_model.predict(X_test)\n",
    "preds_vs_act = pd.DataFrame(np.hstack([y_test.values.reshape(y_test.size,1), y_test_preds.reshape(y_test.size,1)]))\n",
    "preds_vs_act.columns = ['actual', 'preds']\n",
    "preds_vs_act['diff'] = preds_vs_act['actual'] - preds_vs_act['preds']\n",
    "\n",
    "print(preds_vs_act)"
   ]
  },
  {
   "cell_type": "code",
   "execution_count": null,
   "metadata": {},
   "outputs": [],
   "source": [
    "#Plot the actual prices against the predicted values using the linear regression equation\n",
    "plt.plot(preds_vs_act['preds'], preds_vs_act['actual'], 'bo');\n",
    "plt.xlabel('predicted');\n",
    "plt.ylabel('actual');\n",
    "plt.title('Actual price vs. Predicted price')"
   ]
  },
  {
   "cell_type": "code",
   "execution_count": null,
   "metadata": {},
   "outputs": [],
   "source": []
  }
 ]
}