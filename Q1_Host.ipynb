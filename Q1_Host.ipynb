{
 "metadata": {
  "language_info": {
   "codemirror_mode": {
    "name": "ipython",
    "version": 3
   },
   "file_extension": ".py",
   "mimetype": "text/x-python",
   "name": "python",
   "nbconvert_exporter": "python",
   "pygments_lexer": "ipython3",
   "version": "3.9.0"
  },
  "orig_nbformat": 2,
  "kernelspec": {
   "name": "python390jvsc74a57bd0aee8b7b246df8f9039afb4144a1f6fd8d2ca17a180786b69acc140d282b71a49",
   "display_name": "Python 3.9.0 64-bit"
  }
 },
 "nbformat": 4,
 "nbformat_minor": 2,
 "cells": [
  {
   "cell_type": "code",
   "execution_count": null,
   "metadata": {},
   "outputs": [],
   "source": [
    "#Data preparation\n",
    "\n",
    "#Importing libraries used, and read Boston Airbnb listings data\n",
    "import numpy as np\n",
    "import pandas as pd\n",
    "import matplotlib.pyplot as plt\n",
    "import seaborn as sns\n",
    "%matplotlib inline\n",
    "df = pd.read_csv('./data/boston_airbnb/listings.csv')\n",
    "\n",
    "#Remove columns with more than 50% missing values\n",
    "missing_cols = set(df.columns[df.isnull().mean()>0.5])\n",
    "df = df.drop(missing_cols, axis=1, inplace=False)\n",
    "\n",
    "#Replace \"$\" sign in price column, convert to numeric\n",
    "df['price'] = df['price'].replace({'\\$':''}, regex = True)\n",
    "df['price'] = pd.to_numeric(df['price'] ,errors='coerce')\n",
    "\n",
    "#Drop rows with null prices\n",
    "df.dropna(subset=['price'], axis=0)\n",
    "\n",
    "#Drop rows with prices more than $400\n",
    "df = df[df['price']<=400]\n",
    "\n",
    "#Display number of rows and columns, and the column names of the remaining data\n",
    "print(df.shape)\n",
    "print(df.columns)"
   ]
  },
  {
   "cell_type": "code",
   "execution_count": null,
   "metadata": {},
   "outputs": [],
   "source": [
    "#Get the total number of listings per host and plot on a bar chart for the top 20 hosts\n",
    "vals = df['host_name'].value_counts()\n",
    "((vals[:20])).plot(kind=\"bar\", title=\"Number of listings per host\", xlabel=\"Host name\", ylabel=\"Number of listings\");"
   ]
  },
  {
   "cell_type": "code",
   "execution_count": null,
   "metadata": {},
   "outputs": [],
   "source": [
    "#Display the total number of listings per host\n",
    "print(vals)"
   ]
  },
  {
   "cell_type": "code",
   "execution_count": null,
   "metadata": {},
   "outputs": [],
   "source": [
    "#Display a histogram of the total number of listings per host, setting the bins from 1 to 10 in steps of 1\n",
    "vals.hist(bins=[1,2,3,4,5,6,7,8,9,10]);"
   ]
  },
  {
   "cell_type": "code",
   "execution_count": null,
   "metadata": {},
   "outputs": [],
   "source": [
    "#Filter the data to in include hosts with more than one listing only\n",
    "df_1 = df.groupby('host_name').filter(lambda x: len(x) > 1) \n",
    "\n",
    "#Get the number of listings, mean listing price, and mean review score per host\n",
    "df_1 = df_1.groupby(['host_name']).agg({'id':\"count\", 'price':\"mean\", 'review_scores_rating':\"mean\"})\n",
    "\n",
    "#Rename the id column to count that contains the number of listings per host\n",
    "df_1 = df_1.rename(columns={'id': 'count'},inplace=False)\n",
    "\n",
    "#Sort the data in descending order by the number of listings per host\n",
    "df_1 = df_1.sort_values(\"count\", ascending=False)\n",
    "\n",
    "#Display the data\n",
    "print(df_1)"
   ]
  },
  {
   "cell_type": "code",
   "execution_count": null,
   "metadata": {},
   "outputs": [],
   "source": [
    "#Display a histogram of mean review score per host\n",
    "df_1['review_scores_rating'].hist();"
   ]
  },
  {
   "cell_type": "code",
   "execution_count": null,
   "metadata": {},
   "outputs": [],
   "source": [
    "#Plot the mean review score per host in ascending order for the 20 hosts with the lowest scores\n",
    "df_1 = df_1.sort_values(\"review_scores_rating\", ascending=True)\n",
    "((df_1['review_scores_rating'][:20])).plot(kind=\"bar\", title=\"Mean review score of listings per host\", xlabel=\"Host name\", ylabel=\"Review score\");"
   ]
  },
  {
   "cell_type": "code",
   "execution_count": null,
   "metadata": {},
   "outputs": [],
   "source": [
    "#Display the data sorted by review scores in ascending order\n",
    "print(df_1.head(10))"
   ]
  },
  {
   "cell_type": "code",
   "execution_count": null,
   "metadata": {},
   "outputs": [],
   "source": [
    "#Display a histogram of mean price per host\n",
    "df_1['price'].hist();"
   ]
  },
  {
   "cell_type": "code",
   "execution_count": null,
   "metadata": {},
   "outputs": [],
   "source": [
    "#Plot the mean price per host in descending order of the 20 hosts with the highest mean prices\n",
    "df_1 = df_1.sort_values(\"price\", ascending=False)\n",
    "((df_1['price'][:20])).plot(kind=\"bar\", title=\"Mean price of listings per host\", xlabel=\"Host name\", ylabel=\"Price\");"
   ]
  },
  {
   "cell_type": "code",
   "execution_count": null,
   "metadata": {},
   "outputs": [],
   "source": [
    "#Sort and displaythe data mean price per host in descending order\n",
    "df_1 = df_1.sort_values(\"price\", ascending=False)\n",
    "print(df_1.head(20))"
   ]
  },
  {
   "cell_type": "code",
   "execution_count": null,
   "metadata": {},
   "outputs": [],
   "source": [
    "#Plot the mean price and review scores per host against each other\n",
    "sns.set_theme(style=\"ticks\")\n",
    "sns.pairplot(df_1[['price','review_scores_rating']]);\n"
   ]
  },
  {
   "cell_type": "code",
   "execution_count": null,
   "metadata": {},
   "outputs": [],
   "source": [
    "#Display the descriptive statistics of the number of listings, mean price and mean review score per host\n",
    "df_1.describe()"
   ]
  },
  {
   "cell_type": "code",
   "execution_count": null,
   "metadata": {},
   "outputs": [],
   "source": []
  }
 ]
}